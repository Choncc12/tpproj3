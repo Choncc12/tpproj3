{
 "cells": [
  {
   "cell_type": "code",
   "execution_count": 1,
   "metadata": {},
   "outputs": [
    {
     "name": "stdout",
     "output_type": "stream",
     "text": [
      "Requirement already satisfied: numpy in c:\\users\\pawel\\appdata\\local\\programs\\python\\python312\\lib\\site-packages (1.26.4)\n"
     ]
    }
   ],
   "source": [
    "!pip install numpy"
   ]
  },
  {
   "cell_type": "markdown",
   "metadata": {},
   "source": [
    "# TECHNIKI PROGRAMOWANIA - projekt 3\n",
    "### Paweł Gogolewski 197990\n",
    "### Bartek Chabros 198404\n",
    "#### NOTEBOOK ODPALIĆ ZA POMOCĄ RUN ALL\n",
    "Wykorzystane biblioteki:\n",
    "- matplotplusplus (c++)\n",
    "- AudioFile (c++)\n",
    "- Pybind11 (python)"
   ]
  },
  {
   "cell_type": "markdown",
   "metadata": {},
   "source": [
    "# Zad 1 \"Wizualizacja sygnału z wykorzystaniem biblioteki matplotplusplus\"\n",
    "# Zad 4 \"Generowanie sygnałów o zadanej częstotliwości (sin, cos, prostokątny, piłokształtny)\"\n",
    "rysowanie wykresów jednowymiarowych."
   ]
  },
  {
   "cell_type": "code",
   "execution_count": 2,
   "metadata": {},
   "outputs": [],
   "source": [
    "import visual.Debug.pybind11module as lib\n",
    "import numpy as np\n",
    "import os\n",
    "\n",
    "f=10   # Częstotliwość\n",
    "n=1000 # liczba sampli\n",
    "sine=lib.generate_sine_wave(f, n)\n",
    "cosine=lib.generate_cosine_wave(f, n)\n",
    "square=lib.generate_square_wave(f, n)\n",
    "sawtooth=lib.generate_sawtooth_wave(f*10, n) #Dla czytelności wykresu zwiększono częstotliwość\n",
    "lib.plot_line(np.arange(n), sine)\n",
    "lib.plot_line(np.arange(n), cosine)\n",
    "lib.plot_line(np.arange(n), square)\n",
    "lib.plot_line(np.arange(n), sawtooth)"
   ]
  },
  {
   "cell_type": "markdown",
   "metadata": {},
   "source": [
    "# PRZED KAŻDYM URUCHOMIENIEM ZRESETOWAĆ KERNEL I PO URCHUCHOMIENIU ODŚWIEŻYĆ STRONĘ, DOTYCZY TO KAŻDEJ WIZUALIZACJI\n",
    "\n",
    "![sine](plot0.png)\n",
    "![cosine](plot1.png)\n",
    "![square](plot2.png)\n",
    "![sawtooth](plot3.png)"
   ]
  },
  {
   "cell_type": "markdown",
   "metadata": {},
   "source": [
    "# Zad 2 \"DFT i transformata odwrotna\""
   ]
  },
  {
   "cell_type": "code",
   "execution_count": 3,
   "metadata": {},
   "outputs": [],
   "source": [
    "import visual.Debug.pybind11module as lib\n",
    "import numpy as np\n",
    "import os\n",
    "\n",
    "n=1000 # liczba sampli\n",
    "graph=lib.audio(\"test-audio.wav\", n)\n",
    "lib.plot_line(np.arange(n), graph) # wejscie\n",
    "DFT=lib.DFT(graph)\n",
    "lib.plot_line(np.arange(n), np.abs(DFT)) #Za połową wykresu występuje aliasing, absolution jest po to by zwróciło tylko modół z liczby zespolonej\n",
    "IDFT=lib.IDFT(DFT)\n",
    "lib.plot_line(np.arange(n), IDFT)"
   ]
  },
  {
   "cell_type": "markdown",
   "metadata": {},
   "source": [
    "![origin](plot4.png)\n",
    "![DFT](plot5.png)\n",
    "![IDFT](plot6.png)"
   ]
  },
  {
   "cell_type": "markdown",
   "metadata": {},
   "source": [
    "# ZAD DODATKOWE 1: ZADANIE 7 \"Usuwanie wysokich częstotliwości z sygnału (korzystajac z DFT)\""
   ]
  },
  {
   "cell_type": "code",
   "execution_count": 4,
   "metadata": {},
   "outputs": [],
   "source": [
    "import visual.Debug.pybind11module as lib\n",
    "import numpy as np\n",
    "import os\n",
    "\n",
    "n=1000 # liczba sampli\n",
    "graph=lib.audio(\"test-audio.wav\", n)\n",
    "lib.plot_line(np.arange(n), graph) # wejscie\n",
    "DFT=lib.DFT(graph)\n",
    "\n",
    "\n",
    "output=lib.low_pass_filter(graph, 150) #350 to moment odcięcia częstotliwości\n",
    "lib.plot_line(np.arange(n), output)"
   ]
  },
  {
   "cell_type": "markdown",
   "metadata": {},
   "source": [
    "Input\n",
    "![Filter](plot7.png)\n",
    "Output\n",
    "![Filter](plot8.png)"
   ]
  }
 ],
 "metadata": {
  "kernelspec": {
   "display_name": "Python 3",
   "language": "python",
   "name": "python3"
  },
  "language_info": {
   "codemirror_mode": {
    "name": "ipython",
    "version": 3
   },
   "file_extension": ".py",
   "mimetype": "text/x-python",
   "name": "python",
   "nbconvert_exporter": "python",
   "pygments_lexer": "ipython3",
   "version": "3.12.3"
  }
 },
 "nbformat": 4,
 "nbformat_minor": 2
}
